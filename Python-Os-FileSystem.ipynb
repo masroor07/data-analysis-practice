{
 "cells": [
  {
   "cell_type": "code",
   "execution_count": 8,
   "id": "aefbd66d",
   "metadata": {},
   "outputs": [],
   "source": [
    "import os"
   ]
  },
  {
   "cell_type": "code",
   "execution_count": 9,
   "id": "99cbe271",
   "metadata": {},
   "outputs": [
    {
     "data": {
      "text/plain": [
       "'C:\\\\Users\\\\HP\\\\Documents\\\\Python notebooks'"
      ]
     },
     "execution_count": 9,
     "metadata": {},
     "output_type": "execute_result"
    }
   ],
   "source": [
    "os.getcwd()"
   ]
  },
  {
   "cell_type": "code",
   "execution_count": 10,
   "id": "89733057",
   "metadata": {},
   "outputs": [
    {
     "data": {
      "text/plain": [
       "['.ipynb_checkpoints',\n",
       " '.test',\n",
       " 'climate.txt',\n",
       " 'climate_results.txt',\n",
       " 'Firstbook.ipynb',\n",
       " 'istockphoto-857146092-612x612.jpg',\n",
       " 'numpy_indexing.png',\n",
       " 'Python-Os-FileSystem.ipynb',\n",
       " 'test',\n",
       " 'Untitled.ipynb']"
      ]
     },
     "execution_count": 10,
     "metadata": {},
     "output_type": "execute_result"
    }
   ],
   "source": [
    "os.listdir('.')"
   ]
  },
  {
   "cell_type": "code",
   "execution_count": 11,
   "id": "d26f2999",
   "metadata": {},
   "outputs": [
    {
     "data": {
      "text/plain": [
       "['.classpath', '.idea', '.project', 'bin', 'src']"
      ]
     },
     "execution_count": 11,
     "metadata": {},
     "output_type": "execute_result"
    }
   ],
   "source": [
    "os.listdir('C:\\\\Users\\\\HP\\\\Desktop\\\\JAVA')"
   ]
  },
  {
   "cell_type": "code",
   "execution_count": 12,
   "id": "87938e23",
   "metadata": {},
   "outputs": [],
   "source": [
    "os.makedirs('.test', exist_ok = True)"
   ]
  },
  {
   "cell_type": "code",
   "execution_count": 13,
   "id": "7378670a",
   "metadata": {},
   "outputs": [
    {
     "data": {
      "text/plain": [
       "['.ipynb_checkpoints',\n",
       " '.test',\n",
       " 'climate.txt',\n",
       " 'climate_results.txt',\n",
       " 'Firstbook.ipynb',\n",
       " 'istockphoto-857146092-612x612.jpg',\n",
       " 'numpy_indexing.png',\n",
       " 'Python-Os-FileSystem.ipynb',\n",
       " 'test',\n",
       " 'Untitled.ipynb']"
      ]
     },
     "execution_count": 13,
     "metadata": {},
     "output_type": "execute_result"
    }
   ],
   "source": [
    "os.listdir()"
   ]
  },
  {
   "cell_type": "code",
   "execution_count": 14,
   "id": "af6aa008",
   "metadata": {},
   "outputs": [
    {
     "ename": "FileExistsError",
     "evalue": "[WinError 183] Cannot create a file when that file already exists: '.test' -> 'test'",
     "output_type": "error",
     "traceback": [
      "\u001b[1;31m---------------------------------------------------------------------------\u001b[0m",
      "\u001b[1;31mFileExistsError\u001b[0m                           Traceback (most recent call last)",
      "\u001b[1;32m~\\AppData\\Local\\Temp\\ipykernel_10024\\2277166673.py\u001b[0m in \u001b[0;36m<module>\u001b[1;34m\u001b[0m\n\u001b[1;32m----> 1\u001b[1;33m \u001b[0mos\u001b[0m\u001b[1;33m.\u001b[0m\u001b[0mrename\u001b[0m\u001b[1;33m(\u001b[0m\u001b[1;34m'.test'\u001b[0m\u001b[1;33m,\u001b[0m \u001b[1;34m'test'\u001b[0m\u001b[1;33m)\u001b[0m\u001b[1;33m\u001b[0m\u001b[1;33m\u001b[0m\u001b[0m\n\u001b[0m",
      "\u001b[1;31mFileExistsError\u001b[0m: [WinError 183] Cannot create a file when that file already exists: '.test' -> 'test'"
     ]
    }
   ],
   "source": [
    "os.rename('.test', 'test')"
   ]
  },
  {
   "cell_type": "code",
   "execution_count": 15,
   "id": "ff06f2e1",
   "metadata": {},
   "outputs": [
    {
     "data": {
      "text/plain": [
       "['.ipynb_checkpoints',\n",
       " '.test',\n",
       " 'climate.txt',\n",
       " 'climate_results.txt',\n",
       " 'Firstbook.ipynb',\n",
       " 'istockphoto-857146092-612x612.jpg',\n",
       " 'numpy_indexing.png',\n",
       " 'Python-Os-FileSystem.ipynb',\n",
       " 'test',\n",
       " 'Untitled.ipynb']"
      ]
     },
     "execution_count": 15,
     "metadata": {},
     "output_type": "execute_result"
    }
   ],
   "source": [
    "os.listdir()"
   ]
  },
  {
   "cell_type": "code",
   "execution_count": 16,
   "id": "05cf8d26",
   "metadata": {},
   "outputs": [],
   "source": [
    "import  urllib.request"
   ]
  },
  {
   "cell_type": "code",
   "execution_count": 17,
   "id": "804c6cd0",
   "metadata": {},
   "outputs": [],
   "source": [
    "url1 = 'https://gist.githubusercontent.com/aakashns/257f6e6c8719c17d0e498ea287d1a386/raw/7def9ef4234ddf0bc82f855ad67dac8b971852ef/loans1.txt'\n",
    "url2 = 'https://gist.githubusercontent.com/aakashns/257f6e6c8719c17d0e498ea287d1a386/raw/7def9ef4234ddf0bc82f855ad67dac8b971852ef/loans2.txt'\n",
    "url3 = 'https://gist.githubusercontent.com/aakashns/257f6e6c8719c17d0e498ea287d1a386/raw/7def9ef4234ddf0bc82f855ad67dac8b971852ef/loans3.txt'"
   ]
  },
  {
   "cell_type": "code",
   "execution_count": 18,
   "id": "f4bfa300",
   "metadata": {},
   "outputs": [
    {
     "data": {
      "text/plain": [
       "('./test/loan1.txt', <http.client.HTTPMessage at 0x1ebb49173d0>)"
      ]
     },
     "execution_count": 18,
     "metadata": {},
     "output_type": "execute_result"
    }
   ],
   "source": [
    "urllib.request.urlretrieve(url1, './test/loan1.txt')"
   ]
  },
  {
   "cell_type": "code",
   "execution_count": 19,
   "id": "5d8ac55a",
   "metadata": {},
   "outputs": [
    {
     "data": {
      "text/plain": [
       "('./test/loan3.txt', <http.client.HTTPMessage at 0x1ebb4924e20>)"
      ]
     },
     "execution_count": 19,
     "metadata": {},
     "output_type": "execute_result"
    }
   ],
   "source": [
    "urllib.request.urlretrieve(url2, './test/loan2.txt')\n",
    "urllib.request.urlretrieve(url3, './test/loan3.txt')"
   ]
  },
  {
   "cell_type": "code",
   "execution_count": 20,
   "id": "d34149e2",
   "metadata": {},
   "outputs": [
    {
     "data": {
      "text/plain": [
       "['loan1.txt', 'loan2.txt', 'loan3.txt']"
      ]
     },
     "execution_count": 20,
     "metadata": {},
     "output_type": "execute_result"
    }
   ],
   "source": [
    "os.listdir('./test')"
   ]
  },
  {
   "cell_type": "code",
   "execution_count": 23,
   "id": "41f2e3ab",
   "metadata": {},
   "outputs": [
    {
     "name": "stdout",
     "output_type": "stream",
     "text": [
      "amount,duration,rate,down_payment\n",
      "100000,36,0.08,20000\n",
      "200000,12,0.1,\n",
      "628400,120,0.12,100000\n",
      "4637400,240,0.06,\n",
      "42900,90,0.07,8900\n",
      "916000,16,0.13,\n",
      "45230,48,0.08,4300\n",
      "991360,99,0.08,\n",
      "423000,27,0.09,47200\n"
     ]
    }
   ],
   "source": [
    "file1 = open('./test/loan1.txt', 'r')\n",
    "file1_contents=file1.read()\n",
    "print(file1_contents)"
   ]
  },
  {
   "cell_type": "code",
   "execution_count": 24,
   "id": "ca20796a",
   "metadata": {},
   "outputs": [],
   "source": [
    "file1.close()"
   ]
  },
  {
   "cell_type": "code",
   "execution_count": 125,
   "id": "c2755dc0",
   "metadata": {},
   "outputs": [],
   "source": [
    "with open('./test/loan1.txt', 'r') as fi:\n",
    "    content = fi.readlines()\n",
    "    "
   ]
  },
  {
   "cell_type": "code",
   "execution_count": 126,
   "id": "4c32cd2b",
   "metadata": {},
   "outputs": [
    {
     "name": "stdout",
     "output_type": "stream",
     "text": [
      "['amount', 'duration', 'rate', 'down_payment']\n",
      "['100000', '36', '0.08', '20000']\n",
      "['200000', '12', '0.1', '']\n",
      "['628400', '120', '0.12', '100000']\n",
      "['4637400', '240', '0.06', '']\n",
      "['42900', '90', '0.07', '8900']\n",
      "['916000', '16', '0.13', '']\n",
      "['45230', '48', '0.08', '4300']\n",
      "['991360', '99', '0.08', '']\n",
      "['423000', '27', '0.09', '47200']\n"
     ]
    }
   ],
   "source": [
    "def reading(fetchedFile):\n",
    "    for lines in fetchedFile:\n",
    "        print(lines.strip().split(','))\n",
    "reading(content)    "
   ]
  },
  {
   "cell_type": "code",
   "execution_count": 39,
   "id": "7fea8629",
   "metadata": {},
   "outputs": [],
   "source": [
    "def ret_header(header):\n",
    "    return header.strip().split(',')"
   ]
  },
  {
   "cell_type": "code",
   "execution_count": 41,
   "id": "2a45ecd6",
   "metadata": {},
   "outputs": [
    {
     "data": {
      "text/plain": [
       "['amount', 'duration', 'rate', 'down_payment']"
      ]
     },
     "execution_count": 41,
     "metadata": {},
     "output_type": "execute_result"
    }
   ],
   "source": [
    "ret_header(content[0])"
   ]
  },
  {
   "cell_type": "code",
   "execution_count": 60,
   "id": "9da5aaf3",
   "metadata": {},
   "outputs": [],
   "source": [
    "def ret_dlines(line):\n",
    "    listed = [] \n",
    "    for item in line.strip().split(','):\n",
    "        if item == '':\n",
    "            listed.append(0.0)\n",
    "        else:\n",
    "            listed.append(float(item))\n",
    "    return listed"
   ]
  },
  {
   "cell_type": "code",
   "execution_count": 61,
   "id": "d643cab4",
   "metadata": {},
   "outputs": [
    {
     "data": {
      "text/plain": [
       "[200000.0, 12.0, 0.1, 0.0]"
      ]
     },
     "execution_count": 61,
     "metadata": {},
     "output_type": "execute_result"
    }
   ],
   "source": [
    "ret_dlines(content[2])"
   ]
  },
  {
   "cell_type": "code",
   "execution_count": 136,
   "id": "50c58c55",
   "metadata": {},
   "outputs": [],
   "source": [
    "def dicti(header, values):\n",
    "    dict = {}\n",
    "    for header, values in zip(header, values):\n",
    "            dict[header] = values\n",
    "    return dict"
   ]
  },
  {
   "cell_type": "code",
   "execution_count": 141,
   "id": "882fb5a6",
   "metadata": {},
   "outputs": [],
   "source": [
    "def dictIt(path):\n",
    "    listOfDict = []\n",
    "    with open(path, 'r') as f: \n",
    "        opened = f.readlines()\n",
    "        header = ret_header(opened[0])\n",
    "        for lines in opened[1:]:\n",
    "            values = ret_dlines(lines)\n",
    "            dict = dicti(header,values)\n",
    "            listOfDict.append(dict)\n",
    "    return listOfDict\n",
    "    \n",
    "    \n",
    "     \n",
    "    "
   ]
  },
  {
   "cell_type": "code",
   "execution_count": 150,
   "id": "e5417e57",
   "metadata": {},
   "outputs": [],
   "source": [
    "import math"
   ]
  },
  {
   "cell_type": "code",
   "execution_count": 151,
   "id": "26602f0a",
   "metadata": {},
   "outputs": [
    {
     "data": {
      "text/plain": [
       "[{'amount': 45230.0, 'duration': 48.0, 'rate': 0.07, 'down_payment': 4300.0},\n",
       " {'amount': 883000.0, 'duration': 16.0, 'rate': 0.14, 'down_payment': 0.0},\n",
       " {'amount': 100000.0, 'duration': 12.0, 'rate': 0.1, 'down_payment': 0.0},\n",
       " {'amount': 728400.0,\n",
       "  'duration': 120.0,\n",
       "  'rate': 0.12,\n",
       "  'down_payment': 100000.0},\n",
       " {'amount': 3637400.0, 'duration': 240.0, 'rate': 0.06, 'down_payment': 0.0},\n",
       " {'amount': 82900.0, 'duration': 90.0, 'rate': 0.07, 'down_payment': 8900.0},\n",
       " {'amount': 316000.0, 'duration': 16.0, 'rate': 0.13, 'down_payment': 0.0},\n",
       " {'amount': 15230.0, 'duration': 48.0, 'rate': 0.08, 'down_payment': 4300.0},\n",
       " {'amount': 991360.0, 'duration': 99.0, 'rate': 0.08, 'down_payment': 0.0},\n",
       " {'amount': 323000.0,\n",
       "  'duration': 27.0,\n",
       "  'rate': 0.09,\n",
       "  'down_payment': 4720010000.0},\n",
       " {'amount': 528400.0,\n",
       "  'duration': 120.0,\n",
       "  'rate': 0.11,\n",
       "  'down_payment': 100000.0},\n",
       " {'amount': 8633400.0, 'duration': 240.0, 'rate': 0.06, 'down_payment': 0.0},\n",
       " {'amount': 12900.0, 'duration': 90.0, 'rate': 0.08, 'down_payment': 8900.0}]"
      ]
     },
     "execution_count": 151,
     "metadata": {},
     "output_type": "execute_result"
    }
   ],
   "source": [
    "dictIt('./test/loan3.txt')"
   ]
  },
  {
   "cell_type": "code",
   "execution_count": 152,
   "id": "e1d4b375",
   "metadata": {},
   "outputs": [],
   "source": [
    "def loan_emi(amount, duration, rate, down_payment=0):\n",
    "    \"\"\"Calculates the equal montly installment (EMI) for a loan.\n",
    "    \n",
    "    Arguments:\n",
    "        amount - Total amount to be spent (loan + down payment)\n",
    "        duration - Duration of the loan (in months)\n",
    "        rate - Rate of interest (monthly)\n",
    "        down_payment (optional) - Optional intial payment (deducted from amount)\n",
    "    \"\"\"\n",
    "    loan_amount = amount - down_payment\n",
    "    try:\n",
    "        emi = loan_amount * rate * ((1+rate)**duration) / (((1+rate)**duration)-1)\n",
    "    except ZeroDivisionError:\n",
    "        emi = loan_amount / duration\n",
    "    emi = math.ceil(emi)\n",
    "    return emi"
   ]
  },
  {
   "cell_type": "code",
   "execution_count": 153,
   "id": "552d5359",
   "metadata": {},
   "outputs": [],
   "source": [
    "loans = dictIt('./test/loan2.txt')"
   ]
  },
  {
   "cell_type": "code",
   "execution_count": 158,
   "id": "d125b3aa",
   "metadata": {},
   "outputs": [
    {
     "data": {
      "text/plain": [
       "[{'amount': 828400.0,\n",
       "  'duration': 120.0,\n",
       "  'rate': 0.11,\n",
       "  'down_payment': 100000.0,\n",
       "  'emi': 80125},\n",
       " {'amount': 4633400.0,\n",
       "  'duration': 240.0,\n",
       "  'rate': 0.06,\n",
       "  'down_payment': 0.0,\n",
       "  'emi': 278005},\n",
       " {'amount': 42900.0,\n",
       "  'duration': 90.0,\n",
       "  'rate': 0.08,\n",
       "  'down_payment': 8900.0,\n",
       "  'emi': 2723},\n",
       " {'amount': 983000.0,\n",
       "  'duration': 16.0,\n",
       "  'rate': 0.14,\n",
       "  'down_payment': 0.0,\n",
       "  'emi': 156902},\n",
       " {'amount': 15230.0,\n",
       "  'duration': 48.0,\n",
       "  'rate': 0.07,\n",
       "  'down_payment': 4300.0,\n",
       "  'emi': 797}]"
      ]
     },
     "execution_count": 158,
     "metadata": {},
     "output_type": "execute_result"
    }
   ],
   "source": [
    "for items in loans:\n",
    "    items['emi'] = loan_emi(items['amount'],\n",
    "                           items['duration'],\n",
    "                           items['rate'],\n",
    "                           items['down_payment'])\n",
    "loans"
   ]
  },
  {
   "cell_type": "code",
   "execution_count": 162,
   "id": "4fe3e555",
   "metadata": {},
   "outputs": [],
   "source": [
    "\n",
    "with open('./test/emis2.txt', 'w') as f:\n",
    "    headers = loans[0].keys()\n",
    "    f.write(','.join(headers) + '\\n')\n",
    "    for loan in loans:\n",
    "        f.write('{},{},{},{},{}\\n'.format(\n",
    "            loan['amount'], \n",
    "            loan['duration'], \n",
    "            loan['rate'], \n",
    "            loan['down_payment'], \n",
    "            loan['emi']))"
   ]
  },
  {
   "cell_type": "code",
   "execution_count": 163,
   "id": "8ace1e8d",
   "metadata": {},
   "outputs": [
    {
     "data": {
      "text/plain": [
       "['emis2.txt', 'loan1.txt', 'loan2.txt', 'loan3.txt']"
      ]
     },
     "execution_count": 163,
     "metadata": {},
     "output_type": "execute_result"
    }
   ],
   "source": [
    "os.listdir('./test')"
   ]
  },
  {
   "cell_type": "code",
   "execution_count": null,
   "id": "81a6d928",
   "metadata": {},
   "outputs": [],
   "source": [
    "def write_csv(items, path):\n",
    "    # Open the file in write mode\n",
    "    with open(path, 'w') as f:\n",
    "        # Return if there's nothing to write\n",
    "        if len(items) == 0:\n",
    "            return\n",
    "        \n",
    "        # Write the headers in the first line\n",
    "        headers = list(items[0].keys())\n",
    "        f.write(','.join(headers) + '\\n')\n",
    "        \n",
    "        # Write one item per line\n",
    "        for item in items:\n",
    "            values = []\n",
    "            for header in headers:\n",
    "                values.append(str(item.get(header, \"\")))\n",
    "            f.write(','.join(values) + \"\\n\")"
   ]
  }
 ],
 "metadata": {
  "kernelspec": {
   "display_name": "Python 3 (ipykernel)",
   "language": "python",
   "name": "python3"
  },
  "language_info": {
   "codemirror_mode": {
    "name": "ipython",
    "version": 3
   },
   "file_extension": ".py",
   "mimetype": "text/x-python",
   "name": "python",
   "nbconvert_exporter": "python",
   "pygments_lexer": "ipython3",
   "version": "3.9.13"
  }
 },
 "nbformat": 4,
 "nbformat_minor": 5
}
