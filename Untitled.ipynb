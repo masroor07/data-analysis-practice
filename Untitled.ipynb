{
 "cells": [
  {
   "cell_type": "markdown",
   "id": "7ca9bb88",
   "metadata": {},
   "source": [
    "# My First notebook \n",
    "\n",
    "The max function demo:"
   ]
  },
  {
   "cell_type": "code",
   "execution_count": 1,
   "id": "1dbed531",
   "metadata": {
    "scrolled": false
   },
   "outputs": [],
   "source": [
    "import numpy as np"
   ]
  },
  {
   "cell_type": "code",
   "execution_count": 2,
   "id": "e2122fea",
   "metadata": {},
   "outputs": [],
   "source": [
    "a = np.array([1,3,5,6,7], dtype = 'i')"
   ]
  },
  {
   "cell_type": "code",
   "execution_count": 7,
   "id": "dd2c2fc0",
   "metadata": {},
   "outputs": [],
   "source": [
    "b = np.array((2,5,6,7), dtype = 'f')"
   ]
  },
  {
   "cell_type": "code",
   "execution_count": 8,
   "id": "d175f72f",
   "metadata": {},
   "outputs": [
    {
     "data": {
      "text/plain": [
       "numpy.ndarray"
      ]
     },
     "execution_count": 8,
     "metadata": {},
     "output_type": "execute_result"
    }
   ],
   "source": [
    "type(a)"
   ]
  },
  {
   "cell_type": "code",
   "execution_count": 9,
   "id": "8f68210c",
   "metadata": {},
   "outputs": [
    {
     "data": {
      "text/plain": [
       "numpy.ndarray"
      ]
     },
     "execution_count": 9,
     "metadata": {},
     "output_type": "execute_result"
    }
   ],
   "source": [
    "type(b)"
   ]
  },
  {
   "cell_type": "code",
   "execution_count": 11,
   "id": "df898f7d",
   "metadata": {},
   "outputs": [
    {
     "data": {
      "text/plain": [
       "dtype('int32')"
      ]
     },
     "execution_count": 11,
     "metadata": {},
     "output_type": "execute_result"
    }
   ],
   "source": [
    "a.dtype"
   ]
  },
  {
   "cell_type": "code",
   "execution_count": 13,
   "id": "82545623",
   "metadata": {},
   "outputs": [
    {
     "data": {
      "text/plain": [
       "dtype('float32')"
      ]
     },
     "execution_count": 13,
     "metadata": {},
     "output_type": "execute_result"
    }
   ],
   "source": [
    "b.dtype"
   ]
  },
  {
   "cell_type": "markdown",
   "id": "2c144ed0",
   "metadata": {},
   "source": [
    "##### Numpy dimension:\n",
    "An array is usually a fixed-size container of items of the same type and size. The number of dimensions and items in an array is defined by its shape. The shape of an array is a tuple of non-negative integers that specify the sizes of each dimension.\n",
    "\n",
    "In NumPy, dimensions are called axes. This means that if you have a 2D array that looks like this:\n",
    "[[0., 0., 0.],\n",
    " [1., 1., 1.]]\n",
    "Your array has 2 axes. The first axis has a length of 2 and the second axis has a length of 3."
   ]
  },
  {
   "cell_type": "code",
   "execution_count": 17,
   "id": "1a33594f",
   "metadata": {},
   "outputs": [
    {
     "name": "stdout",
     "output_type": "stream",
     "text": [
      "2\n"
     ]
    }
   ],
   "source": [
    "twoD = np.array([[1,2,3],\n",
    "       [4,5,6]])\n",
    "print(twoD.ndim)\n",
    "# ndim -- prints out the dimentions of the array"
   ]
  },
  {
   "cell_type": "code",
   "execution_count": 18,
   "id": "32bda94a",
   "metadata": {},
   "outputs": [
    {
     "data": {
      "text/plain": [
       "2"
      ]
     },
     "execution_count": 18,
     "metadata": {},
     "output_type": "execute_result"
    }
   ],
   "source": [
    "twoD[0,1]\n",
    "#just like a normal array"
   ]
  },
  {
   "cell_type": "code",
   "execution_count": null,
   "id": "1f940632",
   "metadata": {},
   "outputs": [],
   "source": []
  }
 ],
 "metadata": {
  "kernelspec": {
   "display_name": "Python 3 (ipykernel)",
   "language": "python",
   "name": "python3"
  },
  "language_info": {
   "codemirror_mode": {
    "name": "ipython",
    "version": 3
   },
   "file_extension": ".py",
   "mimetype": "text/x-python",
   "name": "python",
   "nbconvert_exporter": "python",
   "pygments_lexer": "ipython3",
   "version": "3.9.13"
  }
 },
 "nbformat": 4,
 "nbformat_minor": 5
}
