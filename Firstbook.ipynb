{
 "cells": [
  {
   "cell_type": "markdown",
   "id": "7ca9bb88",
   "metadata": {},
   "source": [
    "\n",
    "> **Introduction to Numpy library:**\n",
    " \n",
    " <hr/>\n",
    " NumPy is the fundamental package for scientific computing in Python. It is a Python library that provides a multidimensional array object, various derived objects (such as masked arrays and matrices), and an assortment of routines for fast operations on arrays, including mathematical, logical, shape manipulation, sorting, selecting, I/O, discrete Fourier transforms, basic linear algebra, basic statistical operations, random simulation and much more.\n",
    " \n",
    "\n",
    "\n",
    "\n",
    "* NumPy fully supports an object-oriented approach, starting, once again, with ndarray. For example, ndarray is a class, possessing numerous methods and attributes. Many of its methods are mirrored by functions in the outer-most NumPy namespace, allowing the programmer to code in whichever paradigm they prefer. This flexibility has allowed the NumPy array dialect and NumPy ndarray class to become the de-facto language of multi-dimensional data interchange used in Python.\n",
    "\n"
   ]
  },
  {
   "cell_type": "code",
   "execution_count": 3,
   "id": "1dbed531",
   "metadata": {
    "scrolled": false
   },
   "outputs": [],
   "source": [
    "import numpy as np"
   ]
  },
  {
   "cell_type": "code",
   "execution_count": 3,
   "id": "e2122fea",
   "metadata": {},
   "outputs": [],
   "source": [
    "a = np.array([1,3,5,6,7], dtype = 'i')"
   ]
  },
  {
   "cell_type": "code",
   "execution_count": 4,
   "id": "68cb5837",
   "metadata": {},
   "outputs": [],
   "source": [
    "b = np.array((2,5,6,7), dtype = 'f')"
   ]
  },
  {
   "cell_type": "code",
   "execution_count": 5,
   "id": "476a1204",
   "metadata": {},
   "outputs": [
    {
     "data": {
      "text/plain": [
       "numpy.ndarray"
      ]
     },
     "execution_count": 5,
     "metadata": {},
     "output_type": "execute_result"
    }
   ],
   "source": [
    "type(a)"
   ]
  },
  {
   "cell_type": "code",
   "execution_count": 6,
   "id": "e3eb30a5",
   "metadata": {},
   "outputs": [
    {
     "data": {
      "text/plain": [
       "numpy.ndarray"
      ]
     },
     "execution_count": 6,
     "metadata": {},
     "output_type": "execute_result"
    }
   ],
   "source": [
    "type(b)"
   ]
  },
  {
   "cell_type": "code",
   "execution_count": 7,
   "id": "e6e7c517",
   "metadata": {},
   "outputs": [
    {
     "data": {
      "text/plain": [
       "dtype('int32')"
      ]
     },
     "execution_count": 7,
     "metadata": {},
     "output_type": "execute_result"
    }
   ],
   "source": [
    "a.dtype"
   ]
  },
  {
   "cell_type": "code",
   "execution_count": 8,
   "id": "bf70c2b1",
   "metadata": {},
   "outputs": [
    {
     "data": {
      "text/plain": [
       "dtype('float32')"
      ]
     },
     "execution_count": 8,
     "metadata": {},
     "output_type": "execute_result"
    }
   ],
   "source": [
    "b.dtype"
   ]
  },
  {
   "cell_type": "markdown",
   "id": "96da6639",
   "metadata": {},
   "source": [
    "##### Numpy dimension:\n",
    "An array is usually a fixed-size container of items of the same type and size. The number of dimensions and items in an array is defined by its shape. The shape of an array is a tuple of non-negative integers that specify the sizes of each dimension.\n",
    "\n",
    "In NumPy, dimensions are called axes. This means that if you have a 2D array that looks like this:\n",
    "[[0., 0., 0.],\n",
    " [1., 1., 1.]]\n",
    "Your array has 2 axes. The first axis has a length of 2 and the second axis has a length of 3."
   ]
  },
  {
   "cell_type": "code",
   "execution_count": 9,
   "id": "83a5d70e",
   "metadata": {},
   "outputs": [
    {
     "name": "stdout",
     "output_type": "stream",
     "text": [
      "2\n"
     ]
    }
   ],
   "source": [
    "twoD = np.array([[1,2,3],\n",
    "       [4,5,6]])\n",
    "print(twoD.ndim)\n",
    "# ndim -- prints out the dimentions of the array "
   ]
  },
  {
   "cell_type": "code",
   "execution_count": 10,
   "id": "2c36f60d",
   "metadata": {},
   "outputs": [
    {
     "data": {
      "text/plain": [
       "2"
      ]
     },
     "execution_count": 10,
     "metadata": {},
     "output_type": "execute_result"
    }
   ],
   "source": [
    "twoD[0,1]\n",
    "#just like a normal array"
   ]
  },
  {
   "cell_type": "code",
   "execution_count": 11,
   "id": "9de4490b",
   "metadata": {},
   "outputs": [
    {
     "name": "stdout",
     "output_type": "stream",
     "text": [
      "3\n"
     ]
    },
    {
     "data": {
      "text/plain": [
       "numpy.ndarray"
      ]
     },
     "execution_count": 11,
     "metadata": {},
     "output_type": "execute_result"
    }
   ],
   "source": [
    "threeD = np.array([[[1,2,3],[4,5,6]],[\n",
    "       [-4,-5,-6],[-1,-2,-3]]])\n",
    "print(threeD.ndim)\n",
    "type(threeD)\n"
   ]
  },
  {
   "cell_type": "code",
   "execution_count": 12,
   "id": "317c3dc0",
   "metadata": {},
   "outputs": [
    {
     "data": {
      "text/plain": [
       "-3"
      ]
     },
     "execution_count": 12,
     "metadata": {},
     "output_type": "execute_result"
    }
   ],
   "source": [
    "threeD[1,1,2]"
   ]
  },
  {
   "cell_type": "raw",
   "id": "32872e73",
   "metadata": {},
   "source": [
    "The shape of a Python NumPy array by using numpy.ndarray.shape property with examples. This returns a tuple with the number of rows and columns in an array. The array shape can be defined as the number of elements in each dimension and dimension is defined as a number of indices or subscripts, that can specify an individual element of an array."
   ]
  },
  {
   "cell_type": "code",
   "execution_count": 13,
   "id": "09a47c9d",
   "metadata": {},
   "outputs": [
    {
     "data": {
      "text/plain": [
       "(2, 2, 3)"
      ]
     },
     "execution_count": 13,
     "metadata": {},
     "output_type": "execute_result"
    }
   ],
   "source": [
    "threeD.shape"
   ]
  },
  {
   "cell_type": "code",
   "execution_count": 14,
   "id": "b0766fdf",
   "metadata": {},
   "outputs": [
    {
     "data": {
      "text/plain": [
       "(2, 3)"
      ]
     },
     "execution_count": 14,
     "metadata": {},
     "output_type": "execute_result"
    }
   ],
   "source": [
    "twoD.shape"
   ]
  },
  {
   "cell_type": "markdown",
   "id": "72eb3b67",
   "metadata": {},
   "source": [
    "## Numpy array functions:\n",
    "\n",
    "    1. np.arrange\n",
    "    2. np.random.permutation\n",
    "    3. np.reshape\n",
    "    4. np.zeros\n",
    "    5. np.ones\n",
    "    5. np.linspace\n",
    "\n",
    "\n",
    "\n"
   ]
  },
  {
   "cell_type": "code",
   "execution_count": 7,
   "id": "2f91cce6",
   "metadata": {},
   "outputs": [
    {
     "data": {
      "text/plain": [
       "array([ 3.,  6.,  9., 12., 15., 18., 21., 24., 27., 30.])"
      ]
     },
     "execution_count": 7,
     "metadata": {},
     "output_type": "execute_result"
    }
   ],
   "source": [
    "#Return evenly spaced numbers over a specified interval\n",
    "np.linspace(3,30, num = 10)"
   ]
  },
  {
   "cell_type": "code",
   "execution_count": 15,
   "id": "6e0f6bba",
   "metadata": {},
   "outputs": [
    {
     "name": "stdout",
     "output_type": "stream",
     "text": [
      "Enter the start number:1\n",
      "Enter the last odd number10\n",
      "[1 3 5 7 9]\n"
     ]
    }
   ],
   "source": [
    "odd = int(input(\"Enter the start number:\"))\n",
    "last = int(input(\"Enter the last odd number\"))\n",
    "quick = np.arange(odd,last+1,2)\n",
    "print(quick)"
   ]
  },
  {
   "cell_type": "code",
   "execution_count": 16,
   "id": "b0c16844",
   "metadata": {},
   "outputs": [
    {
     "data": {
      "text/plain": [
       "1"
      ]
     },
     "execution_count": 16,
     "metadata": {},
     "output_type": "execute_result"
    }
   ],
   "source": [
    "np.random.randint(1,10)"
   ]
  },
  {
   "cell_type": "code",
   "execution_count": 17,
   "id": "dc72b8ee",
   "metadata": {},
   "outputs": [
    {
     "name": "stdout",
     "output_type": "stream",
     "text": [
      "[[ 1  2  3  4  5]\n",
      " [ 6  7  8  9 10]]\n"
     ]
    }
   ],
   "source": [
    "first = np.array([1,2,3,4,5,6,7,8,9,10])\n",
    "B= first.reshape(2,5)\n",
    "print(B)"
   ]
  },
  {
   "cell_type": "code",
   "execution_count": 18,
   "id": "6899af2b",
   "metadata": {},
   "outputs": [
    {
     "name": "stdout",
     "output_type": "stream",
     "text": [
      "[[0 0 0]\n",
      " [0 0 0]]\n"
     ]
    }
   ],
   "source": [
    "print(np.zeros((2,3), dtype = int))"
   ]
  },
  {
   "cell_type": "code",
   "execution_count": 19,
   "id": "5b4e88ae",
   "metadata": {},
   "outputs": [
    {
     "name": "stdout",
     "output_type": "stream",
     "text": [
      "[[1. 1. 1.]\n",
      " [1. 1. 1.]]\n"
     ]
    }
   ],
   "source": [
    "print(np.ones((2,3), dtype = float))"
   ]
  },
  {
   "cell_type": "markdown",
   "id": "96312ae1",
   "metadata": {},
   "source": [
    "### NUMPY -- Slicing\n",
    " #####   Syntax: [ Start : End : Step ]\n",
    "![iamge](numpy_indexing.png)"
   ]
  },
  {
   "cell_type": "code",
   "execution_count": 20,
   "id": "4bbd9ad5",
   "metadata": {},
   "outputs": [],
   "source": [
    "A = np.arange(100)"
   ]
  },
  {
   "cell_type": "code",
   "execution_count": 21,
   "id": "039d8a9e",
   "metadata": {},
   "outputs": [
    {
     "name": "stdout",
     "output_type": "stream",
     "text": [
      "[3 4 5 6 7 8 9]\n"
     ]
    }
   ],
   "source": [
    "b = A[3:10]\n",
    "print(b)"
   ]
  },
  {
   "cell_type": "code",
   "execution_count": 22,
   "id": "ef0eb6b6",
   "metadata": {},
   "outputs": [],
   "source": [
    "b[0]= -1200"
   ]
  },
  {
   "cell_type": "code",
   "execution_count": 23,
   "id": "0cb945be",
   "metadata": {},
   "outputs": [
    {
     "name": "stdout",
     "output_type": "stream",
     "text": [
      "[    0     1     2 -1200     4     5     6     7     8     9    10    11\n",
      "    12    13    14    15    16    17    18    19    20    21    22    23\n",
      "    24    25    26    27    28    29    30    31    32    33    34    35\n",
      "    36    37    38    39    40    41    42    43    44    45    46    47\n",
      "    48    49    50    51    52    53    54    55    56    57    58    59\n",
      "    60    61    62    63    64    65    66    67    68    69    70    71\n",
      "    72    73    74    75    76    77    78    79    80    81    82    83\n",
      "    84    85    86    87    88    89    90    91    92    93    94    95\n",
      "    96    97    98    99]\n"
     ]
    }
   ],
   "source": [
    "print(A)\n",
    "\n",
    "\n",
    "#note down the changes in A !!"
   ]
  },
  {
   "cell_type": "code",
   "execution_count": 24,
   "id": "adbcf3b5",
   "metadata": {},
   "outputs": [],
   "source": [
    "#To change this behaviour\n",
    "b = A[3:10].copy()"
   ]
  },
  {
   "cell_type": "code",
   "execution_count": 25,
   "id": "e7320d38",
   "metadata": {},
   "outputs": [
    {
     "name": "stdout",
     "output_type": "stream",
     "text": [
      "[-1200     4     5     6     7     8     9]\n"
     ]
    }
   ],
   "source": [
    "print(b)"
   ]
  },
  {
   "cell_type": "code",
   "execution_count": 26,
   "id": "b6984ecf",
   "metadata": {},
   "outputs": [],
   "source": [
    "b[0]=3"
   ]
  },
  {
   "cell_type": "code",
   "execution_count": 27,
   "id": "bb109578",
   "metadata": {},
   "outputs": [
    {
     "name": "stdout",
     "output_type": "stream",
     "text": [
      "[    0     1     2 -1200     4     5     6     7     8     9    10    11\n",
      "    12    13    14    15    16    17    18    19    20    21    22    23\n",
      "    24    25    26    27    28    29    30    31    32    33    34    35\n",
      "    36    37    38    39    40    41    42    43    44    45    46    47\n",
      "    48    49    50    51    52    53    54    55    56    57    58    59\n",
      "    60    61    62    63    64    65    66    67    68    69    70    71\n",
      "    72    73    74    75    76    77    78    79    80    81    82    83\n",
      "    84    85    86    87    88    89    90    91    92    93    94    95\n",
      "    96    97    98    99]\n"
     ]
    }
   ],
   "source": [
    "print(A)"
   ]
  },
  {
   "cell_type": "code",
   "execution_count": 28,
   "id": "ac252d12",
   "metadata": {},
   "outputs": [
    {
     "name": "stdout",
     "output_type": "stream",
     "text": [
      "[3 4 5 6 7 8 9]\n"
     ]
    }
   ],
   "source": [
    "print(b)"
   ]
  },
  {
   "cell_type": "code",
   "execution_count": 29,
   "id": "dcccac3a",
   "metadata": {},
   "outputs": [
    {
     "data": {
      "text/plain": [
       "array([ 0,  5, 10, 15, 20, 25, 30, 35, 40, 45, 50, 55, 60, 65, 70, 75, 80,\n",
       "       85, 90, 95])"
      ]
     },
     "execution_count": 29,
     "metadata": {},
     "output_type": "execute_result"
    }
   ],
   "source": [
    "A[::5]"
   ]
  },
  {
   "cell_type": "code",
   "execution_count": 30,
   "id": "c41dc43d",
   "metadata": {},
   "outputs": [
    {
     "data": {
      "text/plain": [
       "array([99, 94, 89, 84, 79, 74, 69, 64, 59, 54, 49, 44, 39, 34, 29, 24, 19,\n",
       "       14,  9,  4])"
      ]
     },
     "execution_count": 30,
     "metadata": {},
     "output_type": "execute_result"
    }
   ],
   "source": [
    "A[::-5]"
   ]
  },
  {
   "cell_type": "code",
   "execution_count": 31,
   "id": "fdff135b",
   "metadata": {},
   "outputs": [
    {
     "data": {
      "text/plain": [
       "array([   99,    98,    97,    96,    95,    94,    93,    92,    91,\n",
       "          90,    89,    88,    87,    86,    85,    84,    83,    82,\n",
       "          81,    80,    79,    78,    77,    76,    75,    74,    73,\n",
       "          72,    71,    70,    69,    68,    67,    66,    65,    64,\n",
       "          63,    62,    61,    60,    59,    58,    57,    56,    55,\n",
       "          54,    53,    52,    51,    50,    49,    48,    47,    46,\n",
       "          45,    44,    43,    42,    41,    40,    39,    38,    37,\n",
       "          36,    35,    34,    33,    32,    31,    30,    29,    28,\n",
       "          27,    26,    25,    24,    23,    22,    21,    20,    19,\n",
       "          18,    17,    16,    15,    14,    13,    12,    11,    10,\n",
       "           9,     8,     7,     6,     5,     4, -1200,     2,     1,\n",
       "           0])"
      ]
     },
     "execution_count": 31,
     "metadata": {},
     "output_type": "execute_result"
    }
   ],
   "source": [
    "A[::-1]"
   ]
  },
  {
   "cell_type": "code",
   "execution_count": 32,
   "id": "e0012e6c",
   "metadata": {},
   "outputs": [],
   "source": [
    "ind = np.argwhere(A==-1200)"
   ]
  },
  {
   "cell_type": "code",
   "execution_count": 33,
   "id": "6ce379ee",
   "metadata": {},
   "outputs": [
    {
     "data": {
      "text/plain": [
       "array([[3]], dtype=int64)"
      ]
     },
     "execution_count": 33,
     "metadata": {},
     "output_type": "execute_result"
    }
   ],
   "source": [
    "ind"
   ]
  },
  {
   "cell_type": "code",
   "execution_count": 34,
   "id": "2a39cb3d",
   "metadata": {},
   "outputs": [],
   "source": [
    "A[ind] = ind"
   ]
  },
  {
   "cell_type": "code",
   "execution_count": 35,
   "id": "15fc7277",
   "metadata": {},
   "outputs": [
    {
     "data": {
      "text/plain": [
       "array([ 0,  1,  2,  3,  4,  5,  6,  7,  8,  9, 10, 11, 12, 13, 14, 15, 16,\n",
       "       17, 18, 19, 20, 21, 22, 23, 24, 25, 26, 27, 28, 29, 30, 31, 32, 33,\n",
       "       34, 35, 36, 37, 38, 39, 40, 41, 42, 43, 44, 45, 46, 47, 48, 49, 50,\n",
       "       51, 52, 53, 54, 55, 56, 57, 58, 59, 60, 61, 62, 63, 64, 65, 66, 67,\n",
       "       68, 69, 70, 71, 72, 73, 74, 75, 76, 77, 78, 79, 80, 81, 82, 83, 84,\n",
       "       85, 86, 87, 88, 89, 90, 91, 92, 93, 94, 95, 96, 97, 98, 99])"
      ]
     },
     "execution_count": 35,
     "metadata": {},
     "output_type": "execute_result"
    }
   ],
   "source": [
    "A"
   ]
  },
  {
   "cell_type": "code",
   "execution_count": 36,
   "id": "258cee44",
   "metadata": {},
   "outputs": [
    {
     "data": {
      "text/plain": [
       "array([[6., 9., 6.],\n",
       "       [1., 1., 0.],\n",
       "       [2., 5., 3.],\n",
       "       [4., 9., 4.],\n",
       "       [4., 6., 5.]])"
      ]
     },
     "execution_count": 36,
     "metadata": {},
     "output_type": "execute_result"
    }
   ],
   "source": [
    "#generating random float values b/w 0 and 1 and shaping them into 5 rows and 3 columns\n",
    "#round method to rount the float value\n",
    "\n",
    "twoArray = np.round(10*np.random.rand(5,3))\n",
    "twoArray"
   ]
  },
  {
   "cell_type": "code",
   "execution_count": 37,
   "id": "0c8bc904",
   "metadata": {},
   "outputs": [
    {
     "data": {
      "text/plain": [
       "array([1., 1., 0.])"
      ]
     },
     "execution_count": 37,
     "metadata": {},
     "output_type": "execute_result"
    }
   ],
   "source": [
    "#slcing the whole second row\n",
    "\n",
    "twoArray[1, :]"
   ]
  },
  {
   "cell_type": "code",
   "execution_count": 38,
   "id": "75678c95",
   "metadata": {},
   "outputs": [
    {
     "data": {
      "text/plain": [
       "array([9., 1., 5., 9., 6.])"
      ]
     },
     "execution_count": 38,
     "metadata": {},
     "output_type": "execute_result"
    }
   ],
   "source": [
    "#accessing the whole 2nd column\n",
    "\n",
    "twoArray[:,1]"
   ]
  },
  {
   "cell_type": "code",
   "execution_count": 39,
   "id": "18e6dbba",
   "metadata": {},
   "outputs": [
    {
     "data": {
      "text/plain": [
       "array([[6., 9.],\n",
       "       [1., 1.],\n",
       "       [2., 5.]])"
      ]
     },
     "execution_count": 39,
     "metadata": {},
     "output_type": "execute_result"
    }
   ],
   "source": [
    "#[row range , column range for those rows]\n",
    "\n",
    "twoArray[0:3, 0:2]"
   ]
  },
  {
   "cell_type": "code",
   "execution_count": 40,
   "id": "8b294e74",
   "metadata": {
    "scrolled": true
   },
   "outputs": [
    {
     "name": "stdout",
     "output_type": "stream",
     "text": [
      "[[6. 9. 6.]\n",
      " [1. 1. 0.]\n",
      " [2. 5. 3.]\n",
      " [4. 9. 4.]\n",
      " [4. 6. 5.]]\n"
     ]
    },
    {
     "data": {
      "text/plain": [
       "array([[6., 1., 2., 4., 4.],\n",
       "       [9., 1., 5., 9., 6.],\n",
       "       [6., 0., 3., 4., 5.]])"
      ]
     },
     "execution_count": 40,
     "metadata": {},
     "output_type": "execute_result"
    }
   ],
   "source": [
    "#transpose the matrix\n",
    "print(twoArray)\n",
    "twoArray.T "
   ]
  },
  {
   "cell_type": "code",
   "execution_count": 41,
   "id": "819bc12e",
   "metadata": {},
   "outputs": [],
   "source": [
    "import numpy.linalg as la"
   ]
  },
  {
   "cell_type": "code",
   "execution_count": 42,
   "id": "091131c9",
   "metadata": {},
   "outputs": [
    {
     "data": {
      "text/plain": [
       "array([[-0.03688938, -0.02910539,  0.04482888, -0.01407099,  0.04404065],\n",
       "       [ 0.03455721,  0.01846988, -0.00652373, -0.01414559, -0.03177932],\n",
       "       [ 0.00626019,  0.062126  , -0.04378281,  0.02593211, -0.04564355],\n",
       "       [-0.00050325, -0.01311613, -0.00128234,  0.0289208 ,  0.00200929],\n",
       "       [ 0.01240829, -0.02210573,  0.00617534, -0.03645874,  0.04042883]])"
      ]
     },
     "execution_count": 42,
     "metadata": {},
     "output_type": "execute_result"
    }
   ],
   "source": [
    "la.inv(np.random.randint(1,51,(5,5)))\n"
   ]
  },
  {
   "cell_type": "code",
   "execution_count": 43,
   "id": "89f109c3",
   "metadata": {},
   "outputs": [
    {
     "data": {
      "text/plain": [
       "array([[1., 1., 0.],\n",
       "       [2., 5., 3.],\n",
       "       [4., 6., 4.],\n",
       "       [4., 9., 5.],\n",
       "       [6., 9., 6.]])"
      ]
     },
     "execution_count": 43,
     "metadata": {},
     "output_type": "execute_result"
    }
   ],
   "source": [
    "#sorting arrays (columns = axis->0)\n",
    "\n",
    "twoArray.sort(axis = 0)\n",
    "twoArray"
   ]
  },
  {
   "cell_type": "code",
   "execution_count": 44,
   "id": "600556f0",
   "metadata": {},
   "outputs": [
    {
     "data": {
      "text/plain": [
       "array([[0., 1., 1.],\n",
       "       [2., 3., 5.],\n",
       "       [4., 4., 6.],\n",
       "       [4., 5., 9.],\n",
       "       [6., 6., 9.]])"
      ]
     },
     "execution_count": 44,
     "metadata": {},
     "output_type": "execute_result"
    }
   ],
   "source": [
    "#sorting arrays (row = axis->1)\n",
    "twoArray.sort(axis = 1)\n",
    "twoArray"
   ]
  },
  {
   "cell_type": "code",
   "execution_count": 45,
   "id": "ed2b6248",
   "metadata": {},
   "outputs": [
    {
     "data": {
      "text/plain": [
       "array([[ 1,  4,  9],\n",
       "       [16, 25, 36],\n",
       "       [49, 64, 81]])"
      ]
     },
     "execution_count": 45,
     "metadata": {},
     "output_type": "execute_result"
    }
   ],
   "source": [
    "#matrix multiplication using numpy's * operator\n",
    "ag = np.array([[1,2,3],[4,5,6],[7,8,9]])\n",
    "bg = np.array([[1,2,3],[4,5,6],[7,8,9]])\n",
    "cg = ag*bg\n",
    "cg"
   ]
  },
  {
   "cell_type": "code",
   "execution_count": 46,
   "id": "e0d05b28",
   "metadata": {},
   "outputs": [],
   "source": [
    "# slicng using '&'\n",
    "\n",
    "test1 = np.arange(100)"
   ]
  },
  {
   "cell_type": "code",
   "execution_count": 47,
   "id": "7ed357e8",
   "metadata": {},
   "outputs": [],
   "source": [
    "test2 = test1[20:60:2]"
   ]
  },
  {
   "cell_type": "code",
   "execution_count": 48,
   "id": "4ef01890",
   "metadata": {},
   "outputs": [
    {
     "data": {
      "text/plain": [
       "array([20, 22, 24, 26, 28, 30, 32, 34, 36, 38, 40, 42, 44, 46, 48, 50, 52,\n",
       "       54, 56, 58])"
      ]
     },
     "execution_count": 48,
     "metadata": {},
     "output_type": "execute_result"
    }
   ],
   "source": [
    "test2"
   ]
  },
  {
   "cell_type": "code",
   "execution_count": 49,
   "id": "bd7dd6e2",
   "metadata": {},
   "outputs": [
    {
     "data": {
      "text/plain": [
       "array([21, 22, 23, 24, 25, 26, 27, 28, 29, 30, 31, 32, 33, 34, 35, 36, 37,\n",
       "       38, 39])"
      ]
     },
     "execution_count": 49,
     "metadata": {},
     "output_type": "execute_result"
    }
   ],
   "source": [
    "test2 = test1[(A>20) & (A<40)]\n",
    "test2"
   ]
  },
  {
   "cell_type": "code",
   "execution_count": 50,
   "id": "2ca06400",
   "metadata": {},
   "outputs": [],
   "source": [
    "test2[0] = 20"
   ]
  },
  {
   "cell_type": "code",
   "execution_count": 51,
   "id": "d8999cbe",
   "metadata": {},
   "outputs": [
    {
     "data": {
      "text/plain": [
       "array([ 0,  1,  2,  3,  4,  5,  6,  7,  8,  9, 10, 11, 12, 13, 14, 15, 16,\n",
       "       17, 18, 19, 20, 21, 22, 23, 24, 25, 26, 27, 28, 29, 30, 31, 32, 33,\n",
       "       34, 35, 36, 37, 38, 39, 40, 41, 42, 43, 44, 45, 46, 47, 48, 49, 50,\n",
       "       51, 52, 53, 54, 55, 56, 57, 58, 59, 60, 61, 62, 63, 64, 65, 66, 67,\n",
       "       68, 69, 70, 71, 72, 73, 74, 75, 76, 77, 78, 79, 80, 81, 82, 83, 84,\n",
       "       85, 86, 87, 88, 89, 90, 91, 92, 93, 94, 95, 96, 97, 98, 99])"
      ]
     },
     "execution_count": 51,
     "metadata": {},
     "output_type": "execute_result"
    }
   ],
   "source": [
    "test1"
   ]
  },
  {
   "cell_type": "code",
   "execution_count": 52,
   "id": "fe6f6a18",
   "metadata": {},
   "outputs": [
    {
     "data": {
      "text/plain": [
       "array([20, 22, 23, 24, 25, 26, 27, 28, 29, 30, 31, 32, 33, 34, 35, 36, 37,\n",
       "       38, 39])"
      ]
     },
     "execution_count": 52,
     "metadata": {},
     "output_type": "execute_result"
    }
   ],
   "source": [
    "test2"
   ]
  },
  {
   "cell_type": "markdown",
   "id": "8724d2db",
   "metadata": {},
   "source": [
    "## Broadcasting\n",
    "\n",
    "###### \"The term broadcasting describes how NumPy treats arrays with different shapes during arithmetic operations. Subject to certain constraints, the smaller array is “broadcast” across the larger array so that they have compatible shapes. Broadcasting provides a means of vectorizing array operations so that looping occurs in C instead of Python. It does this without making needless copies of data and usually leads to efficient algorithm implementations. There are, however, cases where broadcasting is a bad idea because it leads to inefficient use of memory that slows computation.\"\n",
    "\n",
    "When operating on two arrays, NumPy compares their shapes element-wise. It starts with the trailing (i.e. rightmost) dimension and works its way left. Two dimensions are compatible when\n",
    "\n",
    "    -they are equal, or\n",
    "    -one of them is 1.\n",
    "\n",
    "-A set of arrays is called “broadcastable” to the same shape if the above rules produce a valid result.\n",
    "--\n",
    "For example, if a.shape is (5,1), b.shape is (1,6), c.shape is (6,) and d.shape is () so that d is a scalar, then a, b, c, and d are all broadcastable to dimension (5,6); and\n",
    "\n",
    "    a acts like a (5,6) array where a[:,0] is broadcast to the other columns,\n",
    "    b acts like a (5,6) array where b[0,:] is broadcast to the other rows,\n",
    "    c acts like a (1,6) array and therefore like a (5,6) array where c[:] is broadcast to every row, and finally,\n",
    "    d acts like a (5,6) array where the single value is repeated.\n",
    "\n",
    "Here are some more examples:\n",
    "---\n",
    "    A      (2d array):  5 x 4\n",
    "    B      (1d array):      1\n",
    "        Result (2d array):  5 x 4\n",
    "\n",
    "    A      (2d array):  5 x 4\n",
    "    B      (1d array):      4\n",
    "        Result (2d array):  5 x 4\n",
    "\n",
    "    A      (3d array):  15 x 3 x 5\n",
    "    B      (3d array):  15 x 1 x 5\n",
    "        Result (3d array):  15 x 3 x 5\n",
    "\n",
    "    A      (3d array):  15 x 3 x 5\n",
    "    B      (2d array):       3 x 5\n",
    "        Result (3d array):  15 x 3 x 5\n",
    "\n",
    "    A      (3d array):  15 x 3 x 5\n",
    "    B      (2d array):       3 x 1\n",
    "        Result (3d array):  15 x 3 x 5\n",
    "        \n",
    "Here are examples of shapes that do not broadcast:\n",
    "---\n",
    "    A      (1d array)  :  3\n",
    "    B      (1d array):  4 # trailing dimensions do not match\n",
    "\n",
    "    A      (2d array):      2 x 1\n",
    "    B      (3d array):  8 x 4 x 3 # second from last dimensions mismatched\n"
   ]
  },
  {
   "cell_type": "markdown",
   "id": "49562aba",
   "metadata": {},
   "source": [
    "Universal functions:\n",
    "--\n",
    "    np.hstack\n",
    "    np.vstack\n",
    "    np.sort"
   ]
  },
  {
   "cell_type": "code",
   "execution_count": 78,
   "id": "93180236",
   "metadata": {},
   "outputs": [
    {
     "data": {
      "text/plain": [
       "array([[[ 1,  2],\n",
       "        [ 3,  4]],\n",
       "\n",
       "       [[ 5,  6],\n",
       "        [ 7,  8]],\n",
       "\n",
       "       [[ 9, 10],\n",
       "        [11, 12]],\n",
       "\n",
       "       [[13, 14],\n",
       "        [15, 16]],\n",
       "\n",
       "       [[17, 18],\n",
       "        [19, 20]]])"
      ]
     },
     "execution_count": 78,
     "metadata": {},
     "output_type": "execute_result"
    }
   ],
   "source": [
    "broad = np.arange(1,21).reshape(5,2,2)\n",
    "broad"
   ]
  },
  {
   "cell_type": "code",
   "execution_count": 79,
   "id": "815b302b",
   "metadata": {},
   "outputs": [
    {
     "data": {
      "text/plain": [
       "array([[[ 6,  7],\n",
       "        [ 8,  9]],\n",
       "\n",
       "       [[10, 11],\n",
       "        [12, 13]],\n",
       "\n",
       "       [[14, 15],\n",
       "        [16, 17]],\n",
       "\n",
       "       [[18, 19],\n",
       "        [20, 21]],\n",
       "\n",
       "       [[22, 23],\n",
       "        [24, 25]]])"
      ]
     },
     "execution_count": 79,
     "metadata": {},
     "output_type": "execute_result"
    }
   ],
   "source": [
    "broad = broad + 5\n",
    "broad"
   ]
  },
  {
   "cell_type": "markdown",
   "id": "912a9e0e",
   "metadata": {},
   "source": [
    "## -Using the hstack() and vstack() method"
   ]
  },
  {
   "cell_type": "code",
   "execution_count": 80,
   "id": "0d3c9633",
   "metadata": {},
   "outputs": [
    {
     "data": {
      "text/plain": [
       "array([[11, 12, 13, 14, 15],\n",
       "       [16, 17, 18, 19, 20]])"
      ]
     },
     "execution_count": 80,
     "metadata": {},
     "output_type": "execute_result"
    }
   ],
   "source": [
    "con1 = np.arange(1,11).reshape(2,5)\n",
    "con1\n",
    "con2 = np.arange(11,21).reshape(2,5)\n",
    "con2"
   ]
  },
  {
   "cell_type": "code",
   "execution_count": 81,
   "id": "2c31f4ba",
   "metadata": {},
   "outputs": [
    {
     "data": {
      "text/plain": [
       "array([[ 1,  2,  3,  4,  5, 11, 12, 13, 14, 15],\n",
       "       [ 6,  7,  8,  9, 10, 16, 17, 18, 19, 20]])"
      ]
     },
     "execution_count": 81,
     "metadata": {},
     "output_type": "execute_result"
    }
   ],
   "source": [
    "np.hstack((con1,con2))"
   ]
  },
  {
   "cell_type": "code",
   "execution_count": 82,
   "id": "caeff1ec",
   "metadata": {},
   "outputs": [
    {
     "name": "stdout",
     "output_type": "stream",
     "text": [
      "[[ 1  2]\n",
      " [ 3  4]\n",
      " [ 5  6]\n",
      " [ 7  8]\n",
      " [ 9 10]]\n"
     ]
    },
    {
     "data": {
      "text/plain": [
       "array([[11, 12],\n",
       "       [13, 14],\n",
       "       [15, 16],\n",
       "       [17, 18],\n",
       "       [19, 20]])"
      ]
     },
     "execution_count": 82,
     "metadata": {},
     "output_type": "execute_result"
    }
   ],
   "source": [
    "conv1 = np.arange(1,11).reshape(5,2)\n",
    "print(conv1)\n",
    "conv2 = np.arange(11,21).reshape(5,2)\n",
    "conv2"
   ]
  },
  {
   "cell_type": "code",
   "execution_count": 83,
   "id": "9646946f",
   "metadata": {},
   "outputs": [
    {
     "data": {
      "text/plain": [
       "array([[ 1,  2],\n",
       "       [ 3,  4],\n",
       "       [ 5,  6],\n",
       "       [ 7,  8],\n",
       "       [ 9, 10],\n",
       "       [11, 12],\n",
       "       [13, 14],\n",
       "       [15, 16],\n",
       "       [17, 18],\n",
       "       [19, 20]])"
      ]
     },
     "execution_count": 83,
     "metadata": {},
     "output_type": "execute_result"
    }
   ],
   "source": [
    "np.vstack((conv1,conv2))"
   ]
  },
  {
   "cell_type": "markdown",
   "id": "eebb4950",
   "metadata": {},
   "source": [
    "####  -Universal fuctions vs inbuilt python functions vs user defined:\n"
   ]
  },
  {
   "cell_type": "code",
   "execution_count": 59,
   "id": "ef9f1614",
   "metadata": {},
   "outputs": [
    {
     "name": "stdout",
     "output_type": "stream",
     "text": [
      "90.7 ms ± 8.16 ms per loop (mean ± std. dev. of 7 runs, 10 loops each)\n",
      "1.15 ms ± 75.7 µs per loop (mean ± std. dev. of 7 runs, 1000 loops each)\n"
     ]
    }
   ],
   "source": [
    "testArray = np.random.rand(1000000)\n",
    "%timeit sum(testArray)\n",
    "%timeit np.sum(testArray)"
   ]
  },
  {
   "cell_type": "code",
   "execution_count": 60,
   "id": "fc2aa1d1",
   "metadata": {},
   "outputs": [
    {
     "name": "stdout",
     "output_type": "stream",
     "text": [
      "134 ms ± 9 ms per loop (mean ± std. dev. of 7 runs, 10 loops each)\n"
     ]
    }
   ],
   "source": [
    "def sumArray(G):\n",
    "    \"\"\"\n",
    "    Defining our own sum function ->\n",
    "    It takes the array as the argument\n",
    "    and returs the sum\n",
    "    \"\"\"\n",
    "    sum = 0\n",
    "    for i in G:\n",
    "        sum += i\n",
    "    return sum\n",
    "%timeit sumArray(testArray)"
   ]
  },
  {
   "cell_type": "code",
   "execution_count": 61,
   "id": "6eea707b",
   "metadata": {},
   "outputs": [
    {
     "name": "stdout",
     "output_type": "stream",
     "text": [
      "2.12\n",
      "%.2f 2.1234\n",
      "2.12\n"
     ]
    }
   ],
   "source": [
    "a = float(2.1234)\n",
    "print(\"%.2f\"%a)\n",
    "print(\"%.2f\",a)\n",
    "print(\"{:.2f}\".format(a))\n"
   ]
  },
  {
   "cell_type": "code",
   "execution_count": 62,
   "id": "bde96d67",
   "metadata": {},
   "outputs": [
    {
     "data": {
      "text/plain": [
       "True"
      ]
     },
     "execution_count": 62,
     "metadata": {},
     "output_type": "execute_result"
    }
   ],
   "source": [
    "True or False and False"
   ]
  },
  {
   "cell_type": "markdown",
   "id": "fd9457bb",
   "metadata": {},
   "source": [
    "### matrix multiplication in numpy contd..\n",
    "\n",
    "We can use the np.matmul function or the @ operator to perform matrix multiplication.\n",
    "\n",
    "You may recognize the above 2-d array as a matrix with five rows and three columns. Each row represents one region, and the columns represent temperature, rainfall, and humidity, respectively.\n",
    "\n",
    "Numpy arrays can have any number of dimensions and different lengths along each dimension. We can inspect the length along each dimension using the `.shape`  property of an array.\n",
    "\n",
    "<img src=\"https://fgnt.github.io/python_crashkurs_doc/_images/numpy_array_t.png\" width=\"420\">\n"
   ]
  },
  {
   "cell_type": "code",
   "execution_count": 64,
   "id": "18ba05f5",
   "metadata": {},
   "outputs": [],
   "source": [
    "climate_data = np.array([[73, 67, 43],\n",
    "                         [91, 88, 64],\n",
    "                         [87, 134, 58],\n",
    "                         [102, 43, 37],\n",
    "                         [69, 96, 70]])"
   ]
  },
  {
   "cell_type": "code",
   "execution_count": 74,
   "id": "bed9fe1e",
   "metadata": {},
   "outputs": [],
   "source": [
    "w1, w2, w3 = 0.3, 0.2, 0.5\n",
    "weights = np.array([w1, w2, w3])"
   ]
  },
  {
   "cell_type": "code",
   "execution_count": 75,
   "id": "cc37e153",
   "metadata": {},
   "outputs": [
    {
     "name": "stdout",
     "output_type": "stream",
     "text": [
      "float64\n"
     ]
    },
    {
     "data": {
      "text/plain": [
       "(3,)"
      ]
     },
     "execution_count": 75,
     "metadata": {},
     "output_type": "execute_result"
    }
   ],
   "source": [
    "print(weights.dtype)\n",
    "weights.shape"
   ]
  },
  {
   "cell_type": "code",
   "execution_count": 76,
   "id": "94450974",
   "metadata": {},
   "outputs": [
    {
     "data": {
      "text/plain": [
       "array([56.8, 76.9, 81.9, 57.7, 74.9])"
      ]
     },
     "execution_count": 76,
     "metadata": {},
     "output_type": "execute_result"
    }
   ],
   "source": [
    "np.matmul(climate_data, weights)"
   ]
  },
  {
   "cell_type": "code",
   "execution_count": 77,
   "id": "c524fead",
   "metadata": {},
   "outputs": [
    {
     "data": {
      "text/plain": [
       "array([56.8, 76.9, 81.9, 57.7, 74.9])"
      ]
     },
     "execution_count": 77,
     "metadata": {},
     "output_type": "execute_result"
    }
   ],
   "source": [
    "climate_data @ weights"
   ]
  },
  {
   "cell_type": "markdown",
   "id": "509b7956",
   "metadata": {},
   "source": [
    "## Working with CSV data files\n",
    "\n",
    "Numpy also provides helper functions reading from & writing to files. Let's download a file `climate.txt`, which contains 10,000 climate measurements (temperature, rainfall & humidity) in the following format:\n",
    "\n",
    "\n",
    "```\n",
    "temperature,rainfall,humidity\n",
    "25.00,76.00,99.00\n",
    "39.00,65.00,70.00\n",
    "59.00,45.00,77.00\n",
    "84.00,63.00,38.00\n",
    "66.00,50.00,52.00\n",
    "41.00,94.00,77.00\n",
    "91.00,57.00,96.00\n",
    "49.00,96.00,99.00\n",
    "67.00,20.00,28.00\n",
    "...\n",
    "```\n",
    "\n",
    "This format of storing data is known as *comma-separated values* or CSV. \n",
    "\n",
    "> **CSVs**: A comma-separated values (CSV) file is a delimited text file that uses a comma to separate values. Each line of the file is a data record. Each record consists of one or more fields, separated by commas. A CSV file typically stores tabular data (numbers and text) in plain text, in which case each line will have the same number of fields. (Wikipedia)\n",
    "\n",
    "\n",
    "To read this file into a numpy array, we can use the `genfromtxt` function.\n",
    "\n",
    "`import urllib.request`\n",
    "\n",
    "`urllib.request.urlretrieve('LINK')`"
   ]
  },
  {
   "cell_type": "code",
   "execution_count": 85,
   "id": "4583e0ce",
   "metadata": {},
   "outputs": [],
   "source": [
    "#ARGUMENTS passed to genFromtxt:\n",
    "# -first -> textfile name\n",
    "# -second -> seperator e.g ','\n",
    "# -skip-header \n",
    "climate_data = np.genfromtxt('climate.txt', delimiter=',', skip_header=1)"
   ]
  },
  {
   "cell_type": "code",
   "execution_count": 86,
   "id": "3f9a7536",
   "metadata": {},
   "outputs": [
    {
     "data": {
      "text/plain": [
       "array([[25., 76., 99.],\n",
       "       [39., 65., 70.],\n",
       "       [59., 45., 77.],\n",
       "       ...,\n",
       "       [99., 62., 58.],\n",
       "       [70., 71., 91.],\n",
       "       [92., 39., 76.]])"
      ]
     },
     "execution_count": 86,
     "metadata": {},
     "output_type": "execute_result"
    }
   ],
   "source": [
    "climate_data"
   ]
  },
  {
   "cell_type": "code",
   "execution_count": 88,
   "id": "b6d88f8c",
   "metadata": {},
   "outputs": [
    {
     "data": {
      "text/plain": [
       "(10000, 3)"
      ]
     },
     "execution_count": 88,
     "metadata": {},
     "output_type": "execute_result"
    }
   ],
   "source": [
    "climate_data.shape"
   ]
  },
  {
   "cell_type": "code",
   "execution_count": 89,
   "id": "c8a16494",
   "metadata": {},
   "outputs": [],
   "source": [
    "weights = np.array([0.3, 0.2, 0.5])"
   ]
  },
  {
   "cell_type": "code",
   "execution_count": 90,
   "id": "a9fd1e26",
   "metadata": {},
   "outputs": [],
   "source": [
    "yields = climate_data @ weights"
   ]
  },
  {
   "cell_type": "code",
   "execution_count": 91,
   "id": "8aa16727",
   "metadata": {},
   "outputs": [
    {
     "data": {
      "text/plain": [
       "array([72.2, 59.7, 65.2, ..., 71.1, 80.7, 73.4])"
      ]
     },
     "execution_count": 91,
     "metadata": {},
     "output_type": "execute_result"
    }
   ],
   "source": [
    "yields"
   ]
  },
  {
   "cell_type": "code",
   "execution_count": 92,
   "id": "b1153b7c",
   "metadata": {},
   "outputs": [
    {
     "data": {
      "text/plain": [
       "(10000,)"
      ]
     },
     "execution_count": 92,
     "metadata": {},
     "output_type": "execute_result"
    }
   ],
   "source": [
    "yields.shape"
   ]
  },
  {
   "cell_type": "markdown",
   "id": "0dff11ce",
   "metadata": {},
   "source": [
    "Adding the `yields` to `climate_data` as a fourth column using the `np.concatenate` function.\n",
    "\n",
    "`axis= 1-> concatenate  matricies along the columns\n",
    "axis= 2-> concatenate  matricies along the rows`"
   ]
  },
  {
   "cell_type": "code",
   "execution_count": 95,
   "id": "bb68ebea",
   "metadata": {},
   "outputs": [],
   "source": [
    "climate_results = np.concatenate((climate_data, yields.reshape(10000, 1)), axis=1)"
   ]
  },
  {
   "cell_type": "code",
   "execution_count": 94,
   "id": "0728577c",
   "metadata": {},
   "outputs": [
    {
     "data": {
      "text/plain": [
       "array([[25. , 76. , 99. , 72.2],\n",
       "       [39. , 65. , 70. , 59.7],\n",
       "       [59. , 45. , 77. , 65.2],\n",
       "       ...,\n",
       "       [99. , 62. , 58. , 71.1],\n",
       "       [70. , 71. , 91. , 80.7],\n",
       "       [92. , 39. , 76. , 73.4]])"
      ]
     },
     "execution_count": 94,
     "metadata": {},
     "output_type": "execute_result"
    }
   ],
   "source": [
    "climate_results"
   ]
  },
  {
   "cell_type": "code",
   "execution_count": 96,
   "id": "0bda7c4b",
   "metadata": {},
   "outputs": [],
   "source": [
    "np.savetxt('climate_results.txt', \n",
    "           climate_results, \n",
    "           fmt='%.2f', \n",
    "           delimiter=',',\n",
    "           header='temperature,rainfall,humidity,yeild_apples', \n",
    "           comments='')"
   ]
  },
  {
   "cell_type": "markdown",
   "id": "5c53a0ca",
   "metadata": {},
   "source": [
    "Numpy provides hundreds of functions for performing operations on arrays. Here are some commonly used functions:\n",
    "\n",
    "\n",
    "* Mathematics: `np.sum`, `np.exp`, `np.round`, arithemtic operators \n",
    "* Array manipulation: `np.reshape`, `np.stack`, `np.concatenate`, `np.split`\n",
    "* Linear Algebra: `np.matmul`, `np.dot`, `np.transpose`, `np.eigvals`\n",
    "* Statistics: `np.mean`, `np.median`, `np.std`, `np.max`\n",
    "\n",
    "> The easiest way to find the right function for a specific operation or use-case is to do a web search. For instance, searching for \"How to join numpy arrays\" leads to [this tutorial on array concatenation](https://cmdlinetips.com/2018/04/how-to-concatenate-arrays-in-numpy/). \n",
    "\n",
    "You can find a full list of array functions here: https://numpy.org/doc/stable/reference/routines.html"
   ]
  },
  {
   "cell_type": "code",
   "execution_count": null,
   "id": "b83520ca",
   "metadata": {},
   "outputs": [],
   "source": []
  }
 ],
 "metadata": {
  "kernelspec": {
   "display_name": "Python 3 (ipykernel)",
   "language": "python",
   "name": "python3"
  },
  "language_info": {
   "codemirror_mode": {
    "name": "ipython",
    "version": 3
   },
   "file_extension": ".py",
   "mimetype": "text/x-python",
   "name": "python",
   "nbconvert_exporter": "python",
   "pygments_lexer": "ipython3",
   "version": "3.9.13"
  }
 },
 "nbformat": 4,
 "nbformat_minor": 5
}
